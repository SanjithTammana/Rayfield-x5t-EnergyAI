{
 "cells": [
  {
   "metadata": {
    "ExecuteTime": {
     "end_time": "2025-07-10T09:15:18.559786Z",
     "start_time": "2025-07-10T09:15:18.347107Z"
    }
   },
   "cell_type": "code",
   "source": [
    "# Optimized Solar Energy Forecasting - Adopting Successful Approach\n",
    "import pandas as pd\n",
    "import numpy as np\n",
    "import matplotlib.pyplot as plt\n",
    "import warnings\n",
    "warnings.filterwarnings(\"ignore\")\n",
    "\n",
    "from sklearn.linear_model import Ridge\n",
    "from sklearn.ensemble import VotingRegressor\n",
    "from xgboost import XGBRegressor\n",
    "from sklearn.model_selection import TimeSeriesSplit, GridSearchCV\n",
    "from sklearn.preprocessing import StandardScaler\n",
    "from sklearn.metrics import mean_absolute_error, mean_squared_error, r2_score\n",
    "from math import sqrt\n",
    "\n",
    "print(\"Starting optimized implementation based on successful approach...\")\n"
   ],
   "id": "8b1575665f837f21",
   "outputs": [
    {
     "name": "stdout",
     "output_type": "stream",
     "text": [
      "Starting optimized implementation based on successful approach...\n"
     ]
    }
   ],
   "execution_count": 27
  },
  {
   "metadata": {
    "ExecuteTime": {
     "end_time": "2025-07-10T09:15:18.728020Z",
     "start_time": "2025-07-10T09:15:18.673884Z"
    }
   },
   "cell_type": "code",
   "source": [
    "# 1. Data Loading - Key Difference: Handle zeros as NaN\n",
    "print(\"1. Data Loading - Proper Zero Handling\")\n",
    "print(\"=\" * 50)\n",
    "\n",
    "# Load data\n",
    "DATA_PATH = \"../../training_data.csv\"\n",
    "df = pd.read_csv(DATA_PATH)\n",
    "\n",
    "# KEY DIFFERENCE: Treat 0 as missing for Solar Energy (like in successful file)\n",
    "df[\"Solar Energy\"].replace(0, np.nan, inplace=True)\n",
    "df.dropna(subset=[\"Solar Energy\"], inplace=True)\n",
    "\n",
    "print(f\"After removing zeros/NaN: {len(df)} records\")\n",
    "print(f\"Date range: {df['Year'].min()} to {df['Year'].max()}\")\n"
   ],
   "id": "8c7ba046456b8a91",
   "outputs": [
    {
     "name": "stdout",
     "output_type": "stream",
     "text": [
      "1. Data Loading - Proper Zero Handling\n",
      "==================================================\n",
      "After removing zeros/NaN: 583 records\n",
      "Date range: 1984 to 2024\n"
     ]
    }
   ],
   "execution_count": 28
  },
  {
   "metadata": {
    "ExecuteTime": {
     "end_time": "2025-07-10T09:15:18.841698Z",
     "start_time": "2025-07-10T09:15:18.789146Z"
    }
   },
   "cell_type": "code",
   "source": [
    "# 2. Data Aggregation - Proper Time Series Structure\n",
    "print(\"\\n2. Data Aggregation\")\n",
    "print(\"=\" * 50)\n",
    "\n",
    "# Aggregate by Year and Quarter\n",
    "df_agg = (\n",
    "    df.groupby([\"Year\", \"Quarter\"])[\"Solar Energy\"]\n",
    "      .sum()\n",
    "      .reset_index()\n",
    "      .sort_values([\"Year\", \"Quarter\"])\n",
    ")\n",
    "\n",
    "# Create proper datetime index using PeriodIndex\n",
    "df_agg[\"Date\"] = (\n",
    "    pd.PeriodIndex(year=df_agg.Year,\n",
    "                   quarter=df_agg.Quarter,\n",
    "                   freq=\"Q\")\n",
    "      .to_timestamp()\n",
    ")\n",
    "\n",
    "# Clean up - keep only Date and target\n",
    "df_agg = (\n",
    "    df_agg[[\"Date\", \"Solar Energy\"]]\n",
    "      .rename(columns={\"Solar Energy\": \"y\"})\n",
    "      .reset_index(drop=True)\n",
    ")\n",
    "\n",
    "print(f\"Final dataset: {len(df_agg)} quarters\")\n",
    "print(f\"Date range: {df_agg['Date'].min()} to {df_agg['Date'].max()}\")\n",
    "print(f\"Solar energy range: {df_agg['y'].min():.2f} to {df_agg['y'].max():.2f}\")\n"
   ],
   "id": "a5d3d1ef8f74931e",
   "outputs": [
    {
     "name": "stdout",
     "output_type": "stream",
     "text": [
      "\n",
      "2. Data Aggregation\n",
      "==================================================\n",
      "Final dataset: 160 quarters\n",
      "Date range: 1984-01-01 00:00:00 to 2024-01-01 00:00:00\n",
      "Solar energy range: 0.00 to 272.50\n"
     ]
    }
   ],
   "execution_count": 29
  },
  {
   "metadata": {
    "ExecuteTime": {
     "end_time": "2025-07-10T09:15:18.866927Z",
     "start_time": "2025-07-10T09:15:18.854288Z"
    }
   },
   "cell_type": "code",
   "source": [
    "# 3. Feature Engineering - Autoregressive Approach\n",
    "print(\"\\n3. Feature Engineering - Autoregressive Features\")\n",
    "print(\"=\" * 50)\n",
    "\n",
    "# KEY DIFFERENCE: Use autoregressive lags (1-8 quarters)\n",
    "for lag in range(1, 9):\n",
    "    df_agg[f\"lag_{lag}\"] = df_agg[\"y\"].shift(lag)\n",
    "\n",
    "# Annual seasonality & differences\n",
    "df_agg[\"lag_12\"] = df_agg[\"y\"].shift(12)        # one year ago\n",
    "df_agg[\"lag_4_diff\"] = df_agg[\"y\"].diff(4)      # QoQ change  \n",
    "df_agg[\"lag_12_diff\"] = df_agg[\"y\"].diff(12)    # YoY change\n",
    "\n",
    "print(\"Created features:\")\n",
    "print(\"- lag_1 to lag_8: Autoregressive lags\")\n",
    "print(\"- lag_12: Annual lag\")\n",
    "print(\"- lag_4_diff: Quarter-over-quarter change\")\n",
    "print(\"- lag_12_diff: Year-over-year change\")\n",
    "\n",
    "# Drop rows with NaN values from shifting/differencing\n",
    "print(f\"Before dropping NaN: {len(df_agg)} rows\")\n",
    "df_agg.dropna(inplace=True)\n",
    "df_agg.reset_index(drop=True, inplace=True)\n",
    "print(f\"After dropping NaN: {len(df_agg)} rows\")\n"
   ],
   "id": "6bbabae658e8617d",
   "outputs": [
    {
     "name": "stdout",
     "output_type": "stream",
     "text": [
      "\n",
      "3. Feature Engineering - Autoregressive Features\n",
      "==================================================\n",
      "Created features:\n",
      "- lag_1 to lag_8: Autoregressive lags\n",
      "- lag_12: Annual lag\n",
      "- lag_4_diff: Quarter-over-quarter change\n",
      "- lag_12_diff: Year-over-year change\n",
      "Before dropping NaN: 160 rows\n",
      "After dropping NaN: 148 rows\n"
     ]
    }
   ],
   "execution_count": 30
  },
  {
   "metadata": {
    "ExecuteTime": {
     "end_time": "2025-07-10T09:15:18.982456Z",
     "start_time": "2025-07-10T09:15:18.971455Z"
    }
   },
   "cell_type": "code",
   "source": [
    "# 4. Train-Test Split - Proper Time Series Split\n",
    "print(\"\\n4. Train-Test Split\")\n",
    "print(\"=\" * 50)\n",
    "\n",
    "# Feature columns = all except Date & y\n",
    "feature_cols = [c for c in df_agg.columns if c not in [\"Date\", \"y\"]]\n",
    "print(f\"Feature columns: {feature_cols}\")\n",
    "\n",
    "# KEY DIFFERENCE: Use last 12 quarters for hold-out test (not 80/20 split)\n",
    "train = df_agg.iloc[:-12].copy()\n",
    "test = df_agg.iloc[-12:].copy()\n",
    "\n",
    "X_train = train[feature_cols]\n",
    "y_train = train[\"y\"]\n",
    "X_test = test[feature_cols]\n",
    "y_test = test[\"y\"]\n",
    "\n",
    "print(f\"Training period: {train['Date'].min()} to {train['Date'].max()}\")\n",
    "print(f\"Test period: {test['Date'].min()} to {test['Date'].max()}\")\n",
    "print(f\"Train shape: {X_train.shape}, Test shape: {X_test.shape}\")\n"
   ],
   "id": "d06f8c333ef3a9cb",
   "outputs": [
    {
     "name": "stdout",
     "output_type": "stream",
     "text": [
      "\n",
      "4. Train-Test Split\n",
      "==================================================\n",
      "Feature columns: ['lag_1', 'lag_2', 'lag_3', 'lag_4', 'lag_5', 'lag_6', 'lag_7', 'lag_8', 'lag_12', 'lag_4_diff', 'lag_12_diff']\n",
      "Training period: 1987-01-01 00:00:00 to 2021-01-01 00:00:00\n",
      "Test period: 2021-04-01 00:00:00 to 2024-01-01 00:00:00\n",
      "Train shape: (136, 11), Test shape: (12, 11)\n"
     ]
    }
   ],
   "execution_count": 31
  },
  {
   "metadata": {
    "ExecuteTime": {
     "end_time": "2025-07-10T09:15:19.058278Z",
     "start_time": "2025-07-10T09:15:19.043226Z"
    }
   },
   "cell_type": "code",
   "source": [
    "# 5. Feature Scaling\n",
    "print(\"\\n5. Feature Scaling\")\n",
    "print(\"=\" * 50)\n",
    "\n",
    "scaler = StandardScaler()\n",
    "X_train_scaled = scaler.fit_transform(X_train)\n",
    "X_test_scaled = scaler.transform(X_test)\n",
    "\n",
    "print(\"Features scaled using StandardScaler\")\n"
   ],
   "id": "4064601febb82bef",
   "outputs": [
    {
     "name": "stdout",
     "output_type": "stream",
     "text": [
      "\n",
      "5. Feature Scaling\n",
      "==================================================\n",
      "Features scaled using StandardScaler\n"
     ]
    }
   ],
   "execution_count": 32
  },
  {
   "metadata": {
    "ExecuteTime": {
     "end_time": "2025-07-10T09:15:19.551383Z",
     "start_time": "2025-07-10T09:15:19.109662Z"
    }
   },
   "cell_type": "code",
   "source": [
    "# 6. Model Training - XGBoost with Time Series CV\n",
    "print(\"\\n6. Model Training - XGBoost with Time Series CV\")\n",
    "print(\"=\" * 50)\n",
    "\n",
    "# Time series cross-validation\n",
    "tscv = TimeSeriesSplit(n_splits=5, test_size=4)\n",
    "xgb = XGBRegressor(\n",
    "    n_estimators=100,\n",
    "    learning_rate=0.1,\n",
    "    random_state=42\n",
    ")\n",
    "\n",
    "# Cross-validation scores\n",
    "cv_scores = []\n",
    "for tr_idx, val_idx in tscv.split(X_train_scaled):\n",
    "    X_tr, X_val = X_train_scaled[tr_idx], X_train_scaled[val_idx]\n",
    "    y_tr, y_val = y_train.iloc[tr_idx], y_train.iloc[val_idx]\n",
    "    \n",
    "    xgb.fit(X_tr, y_tr)\n",
    "    preds = xgb.predict(X_val)\n",
    "    cv_scores.append(r2_score(y_val, preds))\n",
    "\n",
    "print(f\"XGBoost CV R²: {np.mean(cv_scores):.4f} ± {np.std(cv_scores):.4f}\")\n"
   ],
   "id": "268d3635d8ff88b6",
   "outputs": [
    {
     "name": "stdout",
     "output_type": "stream",
     "text": [
      "\n",
      "6. Model Training - XGBoost with Time Series CV\n",
      "==================================================\n",
      "XGBoost CV R²: -0.0208 ± 0.4610\n"
     ]
    }
   ],
   "execution_count": 33
  },
  {
   "metadata": {
    "ExecuteTime": {
     "end_time": "2025-07-10T09:15:19.899572Z",
     "start_time": "2025-07-10T09:15:19.650506Z"
    }
   },
   "cell_type": "code",
   "source": [
    "# 7. Ridge Regression with Grid Search\n",
    "print(\"\\n7. Ridge Regression with Grid Search\")\n",
    "print(\"=\" * 50)\n",
    "\n",
    "param_grid = {\"alpha\": np.logspace(-3, 2, 20)}\n",
    "ridge = Ridge()\n",
    "\n",
    "grid = GridSearchCV(ridge, param_grid, cv=tscv, scoring=\"r2\")\n",
    "grid.fit(X_train_scaled, y_train)\n",
    "\n",
    "best_alpha = grid.best_params_[\"alpha\"]\n",
    "print(f\"Best Ridge α: {best_alpha:.4f}\")\n",
    "print(f\"Best Ridge CV R²: {grid.best_score_:.4f}\")\n"
   ],
   "id": "e59f9f438ea7ea2f",
   "outputs": [
    {
     "name": "stdout",
     "output_type": "stream",
     "text": [
      "\n",
      "7. Ridge Regression with Grid Search\n",
      "==================================================\n",
      "Best Ridge α: 0.0010\n",
      "Best Ridge CV R²: 1.0000\n"
     ]
    }
   ],
   "execution_count": 34
  },
  {
   "metadata": {
    "ExecuteTime": {
     "end_time": "2025-07-10T09:15:20.077761Z",
     "start_time": "2025-07-10T09:15:19.969781Z"
    }
   },
   "cell_type": "code",
   "source": [
    "# 8. Ensemble Model - Voting Regressor\n",
    "print(\"\\n8. Ensemble Model\")\n",
    "print(\"=\" * 50)\n",
    "\n",
    "# Create ensemble with tuned Ridge and XGBoost\n",
    "ridge_best = Ridge(alpha=best_alpha)\n",
    "ensemble = VotingRegressor([\n",
    "    (\"ridge\", ridge_best),\n",
    "    (\"xgb\", xgb)\n",
    "])\n",
    "\n",
    "# Train ensemble\n",
    "ensemble.fit(X_train_scaled, y_train)\n",
    "\n",
    "# Predict on test set\n",
    "y_pred_ens = ensemble.predict(X_test_scaled)\n",
    "\n",
    "# Calculate metrics\n",
    "mae_ens = mean_absolute_error(y_test, y_pred_ens)\n",
    "rmse_ens = sqrt(mean_squared_error(y_test, y_pred_ens))\n",
    "r2_ens = r2_score(y_test, y_pred_ens)\n",
    "\n",
    "print(f\"Ensemble Results:\")\n",
    "print(f\"MAE: {mae_ens:.2f}\")\n",
    "print(f\"RMSE: {rmse_ens:.2f}\")\n",
    "print(f\"R²: {r2_ens:.4f}\")\n"
   ],
   "id": "a6f53b02b42c029f",
   "outputs": [
    {
     "name": "stdout",
     "output_type": "stream",
     "text": [
      "\n",
      "8. Ensemble Model\n",
      "==================================================\n",
      "Ensemble Results:\n",
      "MAE: 24.65\n",
      "RMSE: 31.21\n",
      "R²: 0.7194\n"
     ]
    }
   ],
   "execution_count": 35
  },
  {
   "metadata": {
    "ExecuteTime": {
     "end_time": "2025-07-10T09:15:20.304571Z",
     "start_time": "2025-07-10T09:15:20.189819Z"
    }
   },
   "cell_type": "code",
   "source": [
    "# 9. Individual Model Comparison\n",
    "print(\"\\n9. Individual Model Comparison\")\n",
    "print(\"=\" * 50)\n",
    "\n",
    "# Train individual models for comparison\n",
    "ridge_best.fit(X_train_scaled, y_train)\n",
    "xgb.fit(X_train_scaled, y_train)\n",
    "\n",
    "# Predictions\n",
    "y_pred_ridge = ridge_best.predict(X_test_scaled)\n",
    "y_pred_xgb = xgb.predict(X_test_scaled)\n",
    "\n",
    "# Results comparison\n",
    "results = {\n",
    "    'Ridge': {\n",
    "        'MAE': mean_absolute_error(y_test, y_pred_ridge),\n",
    "        'RMSE': sqrt(mean_squared_error(y_test, y_pred_ridge)),\n",
    "        'R²': r2_score(y_test, y_pred_ridge),\n",
    "        'predictions': y_pred_ridge\n",
    "    },\n",
    "    'XGBoost': {\n",
    "        'MAE': mean_absolute_error(y_test, y_pred_xgb),\n",
    "        'RMSE': sqrt(mean_squared_error(y_test, y_pred_xgb)),\n",
    "        'R²': r2_score(y_test, y_pred_xgb),\n",
    "        'predictions': y_pred_xgb\n",
    "    },\n",
    "    'Ensemble': {\n",
    "        'MAE': mae_ens,\n",
    "        'RMSE': rmse_ens,\n",
    "        'R²': r2_ens,\n",
    "        'predictions': y_pred_ens\n",
    "    }\n",
    "}\n",
    "\n",
    "# Display results\n",
    "results_df = pd.DataFrame({\n",
    "    'Model': list(results.keys()),\n",
    "    'MAE': [results[m]['MAE'] for m in results.keys()],\n",
    "    'RMSE': [results[m]['RMSE'] for m in results.keys()],\n",
    "    'R²': [results[m]['R²'] for m in results.keys()]\n",
    "})\n",
    "\n",
    "print(\"Model Performance Comparison:\")\n",
    "print(results_df.round(4))\n"
   ],
   "id": "36b674eb6fda22ac",
   "outputs": [
    {
     "name": "stdout",
     "output_type": "stream",
     "text": [
      "\n",
      "9. Individual Model Comparison\n",
      "==================================================\n",
      "Model Performance Comparison:\n",
      "      Model      MAE     RMSE      R²\n",
      "0     Ridge   0.0054   0.0106  1.0000\n",
      "1   XGBoost  49.3037  62.4137 -0.1223\n",
      "2  Ensemble  24.6539  31.2096  0.7194\n"
     ]
    }
   ],
   "execution_count": 36
  },
  {
   "metadata": {
    "ExecuteTime": {
     "end_time": "2025-07-10T22:31:28.977284Z",
     "start_time": "2025-07-10T22:31:22.098399Z"
    }
   },
   "cell_type": "code",
   "source": "!pip install joblib",
   "id": "ea18e96e328b5bed",
   "outputs": [
    {
     "name": "stdout",
     "output_type": "stream",
     "text": [
      "Requirement already satisfied: joblib in c:\\users\\sanji\\pycharmprojects\\week2and3deliverables-rayfield\\.venv\\lib\\site-packages (1.5.1)\n"
     ]
    }
   ],
   "execution_count": 40
  },
  {
   "metadata": {
    "ExecuteTime": {
     "end_time": "2025-07-10T22:45:23.990800Z",
     "start_time": "2025-07-10T22:45:23.964670Z"
    }
   },
   "cell_type": "code",
   "source": [
    "import joblib\n",
    "import sklearn\n",
    "\n",
    "# Create model bundle\n",
    "bundle = {\n",
    "    \"model\": ensemble,  # Using our trained ensemble model\n",
    "    \"features\": feature_cols,  # Feature columns list\n",
    "    \"task\": \"forecast\",\n",
    "    \"horizon\": 12,  # Quarterly forecasts for 3 years\n",
    "    \"sklearn\": sklearn.__version__,\n",
    "    \"scaler\": scaler,\n",
    "}\n",
    "\n",
    "# Save to models directory\n",
    "joblib.dump(bundle, \"../../models/solar.pkl\")\n",
    "print(\"Model saved successfully!\")"
   ],
   "id": "11f5dcf9285ab66a",
   "outputs": [
    {
     "name": "stdout",
     "output_type": "stream",
     "text": [
      "Model saved successfully!\n"
     ]
    }
   ],
   "execution_count": 45
  },
  {
   "metadata": {},
   "cell_type": "markdown",
   "source": [
    "\n",
    "\n",
    "The code above:\n",
    "1. Installs joblib if not already installed\n",
    "2. Creates a bundle dictionary with:\n",
    "   - Our trained ensemble model\n",
    "   - Feature column names\n",
    "   - Task type and forecast horizon\n",
    "   - scikit-learn version for reproducibility\n",
    "3. Saves the bundle to the models directory using joblib.dump()\n",
    "4. Uses the correct relative path \"../../models/solar.pkl\" since we're in the notebooks/forecastingv2 directory\n"
   ],
   "id": "c4360310cb8bf5eb"
  },
  {
   "metadata": {},
   "cell_type": "code",
   "outputs": [],
   "execution_count": null,
   "source": [
    "# 10. Visualization\n",
    "print(\"\\n10. Visualization\")\n",
    "print(\"=\" * 50)\n",
    "\n",
    "plt.figure(figsize=(16, 12))\n",
    "\n",
    "# Plot 1: Time series with all predictions\n",
    "plt.subplot(2, 3, 1)\n",
    "plt.plot(test[\"Date\"], y_test, \"b-\", label=\"Actual\", linewidth=2)\n",
    "plt.plot(test[\"Date\"], y_pred_ridge, \"g--\", label=\"Ridge\", linewidth=2)\n",
    "plt.plot(test[\"Date\"], y_pred_xgb, \"r:\", label=\"XGBoost\", linewidth=2)\n",
    "plt.plot(test[\"Date\"], y_pred_ens, \"m-\", label=\"Ensemble\", linewidth=2)\n",
    "plt.title(\"Solar Energy Forecasts Comparison\")\n",
    "plt.xlabel(\"Date\")\n",
    "plt.ylabel(\"Solar Energy\")\n",
    "plt.legend()\n",
    "plt.grid(True, alpha=0.3)\n",
    "plt.xticks(rotation=45)\n",
    "\n",
    "# Plot 2: Ensemble forecast with confidence band\n",
    "plt.subplot(2, 3, 2)\n",
    "plt.plot(test[\"Date\"], y_test, \"b-\", label=\"Actual\", linewidth=2)\n",
    "plt.plot(test[\"Date\"], y_pred_ens, \"r--\", label=\"Ensemble\", linewidth=2)\n",
    "plt.fill_between(\n",
    "    test[\"Date\"],\n",
    "    y_pred_ens - rmse_ens,\n",
    "    y_pred_ens + rmse_ens,\n",
    "    color=\"r\", alpha=0.2, label=\"±1 RMSE\"\n",
    ")\n",
    "plt.title(\"Ensemble Forecast with Confidence Band\")\n",
    "plt.xlabel(\"Date\")\n",
    "plt.ylabel(\"Solar Energy\")\n",
    "plt.legend()\n",
    "plt.grid(True, alpha=0.3)\n",
    "plt.xticks(rotation=45)\n",
    "\n",
    "# Plot 3: Model performance comparison\n",
    "plt.subplot(2, 3, 3)\n",
    "plt.barh(results_df['Model'], results_df['R²'])\n",
    "plt.xlabel('R² Score')\n",
    "plt.title('Model Performance (R²)')\n",
    "plt.grid(True, alpha=0.3)\n",
    "\n",
    "# Plot 4: Actual vs Predicted (Ensemble)\n",
    "plt.subplot(2, 3, 4)\n",
    "plt.scatter(y_test, y_pred_ens, alpha=0.7)\n",
    "plt.plot([y_test.min(), y_test.max()], [y_test.min(), y_test.max()], 'r--', lw=2)\n",
    "plt.xlabel('Actual Values')\n",
    "plt.ylabel('Predicted Values')\n",
    "plt.title('Actual vs Predicted (Ensemble)')\n",
    "plt.grid(True, alpha=0.3)\n",
    "\n",
    "# Plot 5: Residuals\n",
    "plt.subplot(2, 3, 5)\n",
    "residuals = y_test - y_pred_ens\n",
    "plt.scatter(y_pred_ens, residuals, alpha=0.7)\n",
    "plt.axhline(y=0, color='r', linestyle='--')\n",
    "plt.xlabel('Predicted Values')\n",
    "plt.ylabel('Residuals')\n",
    "plt.title('Residual Analysis (Ensemble)')\n",
    "plt.grid(True, alpha=0.3)\n",
    "\n",
    "# Plot 6: Feature importance (XGBoost)\n",
    "plt.subplot(2, 3, 6)\n",
    "importance = xgb.feature_importances_\n",
    "feature_names = feature_cols\n",
    "sorted_idx = np.argsort(importance)\n",
    "plt.barh(range(len(sorted_idx)), importance[sorted_idx])\n",
    "plt.yticks(range(len(sorted_idx)), [feature_names[i] for i in sorted_idx])\n",
    "plt.xlabel('Feature Importance')\n",
    "plt.title('XGBoost Feature Importance')\n",
    "plt.grid(True, alpha=0.3)\n",
    "\n",
    "plt.tight_layout()\n",
    "plt.show()\n"
   ],
   "id": "f9372325105ad113"
  },
  {
   "metadata": {
    "ExecuteTime": {
     "end_time": "2025-07-10T09:15:21.643012Z",
     "start_time": "2025-07-10T09:15:21.424984Z"
    }
   },
   "cell_type": "code",
   "source": [
    "# 11. Future Predictions\n",
    "print(\"\\n11. Future Predictions\")\n",
    "print(\"=\" * 50)\n",
    "\n",
    "if r2_ens > 0:\n",
    "    # Create future features based on the pattern\n",
    "    last_values = df_agg.iloc[-12:]['y'].values  # Last 12 quarters for creating lags\n",
    "    \n",
    "    # Predict next 4 quarters\n",
    "    future_predictions = []\n",
    "    current_series = list(df_agg['y'].values)\n",
    "    \n",
    "    for step in range(4):\n",
    "        # Create features for next prediction\n",
    "        future_features = []\n",
    "        \n",
    "        # Lag features\n",
    "        for lag in range(1, 9):\n",
    "            if len(current_series) >= lag:\n",
    "                future_features.append(current_series[-lag])\n",
    "            else:\n",
    "                future_features.append(0)\n",
    "        \n",
    "        # Lag 12 (annual)\n",
    "        if len(current_series) >= 12:\n",
    "            future_features.append(current_series[-12])\n",
    "        else:\n",
    "            future_features.append(0)\n",
    "        \n",
    "        # Differences\n",
    "        if len(current_series) >= 4:\n",
    "            lag_4_diff = current_series[-1] - current_series[-4]\n",
    "        else:\n",
    "            lag_4_diff = 0\n",
    "        future_features.append(lag_4_diff)\n",
    "        \n",
    "        if len(current_series) >= 12:\n",
    "            lag_12_diff = current_series[-1] - current_series[-12]\n",
    "        else:\n",
    "            lag_12_diff = 0\n",
    "        future_features.append(lag_12_diff)\n",
    "        \n",
    "        # Scale features\n",
    "        future_features_scaled = scaler.transform([future_features])\n",
    "        \n",
    "        # Make prediction\n",
    "        pred = ensemble.predict(future_features_scaled)[0]\n",
    "        future_predictions.append(pred)\n",
    "        \n",
    "        # Add prediction to series for next iteration\n",
    "        current_series.append(pred)\n",
    "    \n",
    "    # Create future dates\n",
    "    last_date = test['Date'].iloc[-1]\n",
    "    future_dates = pd.date_range(start=last_date + pd.DateOffset(months=3), periods=4, freq='3M')\n",
    "    \n",
    "    # Display predictions\n",
    "    future_df = pd.DataFrame({\n",
    "        'Date': future_dates,\n",
    "        'Predicted_Solar_Energy': future_predictions\n",
    "    })\n",
    "    \n",
    "    print(\"Future Predictions (Next 4 Quarters):\")\n",
    "    print(future_df)\n",
    "    \n",
    "    # Plot with future predictions\n",
    "    plt.figure(figsize=(14, 8))\n",
    "    plt.plot(df_agg['Date'], df_agg['y'], 'b-', label='Historical Data', linewidth=2)\n",
    "    plt.plot(test['Date'], y_test, 'g-', label='Actual Test', linewidth=2, marker='o')\n",
    "    plt.plot(test['Date'], y_pred_ens, 'r--', label='Ensemble Predictions', linewidth=2, marker='s')\n",
    "    plt.plot(future_dates, future_predictions, 'm-', label='Future Predictions', \n",
    "             linewidth=2, marker='^', linestyle='--', markersize=8)\n",
    "    \n",
    "    plt.xlabel('Date')\n",
    "    plt.ylabel('Solar Energy')\n",
    "    plt.title('Solar Energy Forecasting - Complete Timeline')\n",
    "    plt.legend()\n",
    "    plt.grid(True, alpha=0.3)\n",
    "    plt.xticks(rotation=45)\n",
    "    plt.tight_layout()\n",
    "    plt.show()\n",
    "\n",
    "else:\n",
    "    print(\"Model performance too poor for reliable future predictions\")\n"
   ],
   "id": "48a9a2c72ea1fe89",
   "outputs": [
    {
     "name": "stdout",
     "output_type": "stream",
     "text": [
      "\n",
      "11. Future Predictions\n",
      "==================================================\n",
      "Future Predictions (Next 4 Quarters):\n",
      "        Date  Predicted_Solar_Energy\n",
      "0 2024-04-30               93.023941\n",
      "1 2024-07-31              112.171393\n",
      "2 2024-10-31              122.854497\n",
      "3 2025-01-31               95.781258\n"
     ]
    },
    {
     "data": {
      "text/plain": [
       "<Figure size 1400x800 with 1 Axes>"
      ],
      "image/png": "[encoded data removed]"
     },
     "metadata": {},
     "output_type": "display_data"
    }
   ],
   "execution_count": 38
  },
  {
   "metadata": {
    "ExecuteTime": {
     "end_time": "2025-07-10T09:15:21.716524Z",
     "start_time": "2025-07-10T09:15:21.703920Z"
    }
   },
   "cell_type": "code",
   "source": [
    "# 12. Summary\n",
    "print(\"\\n12. Summary\")\n",
    "print(\"=\" * 50)\n",
    "\n",
    "print(\"Key Differences from Previous Approach:\")\n",
    "print(\"1. ✓ Treated zeros as NaN (missing data)\")\n",
    "print(\"2. ✓ Used autoregressive lag features (1-8 quarters)\")\n",
    "print(\"3. ✓ Added annual seasonality (lag 12)\")\n",
    "print(\"4. ✓ Included difference features (QoQ, YoY)\")\n",
    "print(\"5. ✓ Used proper time series split (last 12 quarters)\")\n",
    "print(\"6. ✓ Applied time series cross-validation\")\n",
    "print(\"7. ✓ Combined Ridge and XGBoost in ensemble\")\n",
    "\n",
    "print(f\"\\nFinal Results:\")\n",
    "print(f\"Best Model: Ensemble (Ridge + XGBoost)\")\n",
    "print(f\"R²: {r2_ens:.4f}\")\n",
    "print(f\"MAE: {mae_ens:.2f}\")\n",
    "print(f\"RMSE: {rmse_ens:.2f}\")\n",
    "\n",
    "if r2_ens > 0.8:\n",
    "    print(\"✓ Excellent performance - suitable for forecasting\")\n",
    "elif r2_ens > 0.5:\n",
    "    print(\"✓ Good performance - reliable for forecasting\")\n",
    "elif r2_ens > 0:\n",
    "    print(\"⚠ Moderate performance - use with caution\")\n",
    "else:\n",
    "    print(\"⚠ Poor performance - needs improvement\")\n",
    "\n",
    "print(\"\\nOptimization Complete!\")"
   ],
   "id": "5953a61ca9b35ea7",
   "outputs": [
    {
     "name": "stdout",
     "output_type": "stream",
     "text": [
      "\n",
      "12. Summary\n",
      "==================================================\n",
      "Key Differences from Previous Approach:\n",
      "1. ✓ Treated zeros as NaN (missing data)\n",
      "2. ✓ Used autoregressive lag features (1-8 quarters)\n",
      "3. ✓ Added annual seasonality (lag 12)\n",
      "4. ✓ Included difference features (QoQ, YoY)\n",
      "5. ✓ Used proper time series split (last 12 quarters)\n",
      "6. ✓ Applied time series cross-validation\n",
      "7. ✓ Combined Ridge and XGBoost in ensemble\n",
      "\n",
      "Final Results:\n",
      "Best Model: Ensemble (Ridge + XGBoost)\n",
      "R²: 0.7194\n",
      "MAE: 24.65\n",
      "RMSE: 31.21\n",
      "✓ Good performance - reliable for forecasting\n",
      "\n",
      "Optimization Complete!\n"
     ]
    }
   ],
   "execution_count": 39
  }
 ],
 "metadata": {
  "kernelspec": {
   "display_name": "Python 3",
   "language": "python",
   "name": "python3"
  },
  "language_info": {
   "codemirror_mode": {
    "name": "ipython",
    "version": 2
   },
   "file_extension": ".py",
   "mimetype": "text/x-python",
   "name": "python",
   "nbconvert_exporter": "python",
   "pygments_lexer": "ipython2",
   "version": "2.7.6"
  }
 },
 "nbformat": 4,
 "nbformat_minor": 5
}
